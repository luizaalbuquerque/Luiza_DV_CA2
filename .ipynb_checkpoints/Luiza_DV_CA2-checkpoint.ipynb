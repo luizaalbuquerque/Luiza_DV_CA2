{
 "cells": [
  {
   "cell_type": "markdown",
   "id": "5ef0a680",
   "metadata": {},
   "source": [
    " # Artificial Intelligence CA2 \n",
    " ## Lecturer: David McQuaid\n",
    " ## Student: Luiza Cavalcanti Albuquerque Brayner (2020309)"
   ]
  },
  {
   "cell_type": "markdown",
   "id": "b79edf8b",
   "metadata": {},
   "source": [
    "# Question 1"
   ]
  },
  {
   "cell_type": "markdown",
   "id": "f77449b0",
   "metadata": {},
   "source": [
    "<b>A) i) Indentify the differences between a graph and a tree: </br></b>\n",
    "Graphs are non-linear Data Structures which are great for representing relationships, while Trees are non-linear Data Structures, they are great for representing hierarchy and are often used for sorted data. <b> Regarding connections: </b> In a graph, there are no strict rules about relationships between nodes. In a tree, each node (not taking into consideration the root node) has exacly one parent.</br> <b>Example: </b> Considering a social network as an example, <b>regarding a graph:</b> Nodes will be represented by each person and edges the connections betwen those people. Such as: Luiza, Ivan, Gabriel and Leticia are nodes and the edges are: Luiza is friends with Ivan and Gabriel, Ivan is friends with Gabriel, Gabriel follows Leticia, and Leticia and Luiza are not directly connected.  <b>regarding a Tree:</b> Considering the same connections but different organization, Imagine Luiza as the root node and connections forming a hierarchical structure. With that is possible follow the tree rules and paths from the root to any node, connected downwards in a structured manner. Making a single path from the root to any node, and each node (except the root) has exactly one parent. \n",
    "\n",
    "</br> <b> References:</b> Vaghani, R. (2023). 'Difference between graph and tree', Geeks for geeks. Available at: https://www.geeksforgeeks.org/difference-between-graph-and-tree/ (Accessed 11 November 2023). "
   ]
  },
  {
   "attachments": {},
   "cell_type": "markdown",
   "id": "a34675f9",
   "metadata": {},
   "source": [
    "<b> A) ii) Explain in detail how the graph is an abstraction of the problem: </b> </br> Graphs are constructs used for modeling a real-word problem. Finding the shortest route between two cities as an example. Basically, graphs do that by dividing the problem into a set of connected nodes, being each node a vertex and each of the connections an edge. Graphs abstration is good because allows to only focus on the essential elements of the problem to find an optimal solution. \n",
    "</br>\n",
    "<b> Example: </b> </br>\n",
    "Continuing the example given above, nodes being cities, such as: city X, Y, Z and W. Edges being the roads, or any direct link between cities. The weights of the edges will be represented by the distancy between each city.</br> Following abstraction, it is possible to consider: \n",
    "</br> <b> Problem: </b> Shortest way from city X to city W. </br>\n",
    "<b> Graph Abstration: </b> Starting from node X and exploring all other connected cities, until the final stop, in this case, city W.</br>\n",
    "<b> Algorithm: </b>As an example of Dijkstra's algorithm given in class, to apply the shortest path. The algorithm will explore all short distances from the source (city X) to all the other cities and it will provide the shortest path my the end. \n",
    "</br> <b> References:</b> 'Chapter 4. Graph problems', Livebook. Available at: https://livebook.manning.com/book/classic-computer-science-problems-in-swift/chapter-4/ (Accessed 12 November 2023)."
   ]
  },
  {
   "cell_type": "code",
   "execution_count": null,
   "id": "a3d61d72",
   "metadata": {},
   "outputs": [],
   "source": [
    "<b> A) ii) Explain in detail how the graph is an abstraction of the problem: </b> </br>"
   ]
  }
 ],
 "metadata": {
  "kernelspec": {
   "display_name": "Python 3 (ipykernel)",
   "language": "python",
   "name": "python3"
  },
  "language_info": {
   "codemirror_mode": {
    "name": "ipython",
    "version": 3
   },
   "file_extension": ".py",
   "mimetype": "text/x-python",
   "name": "python",
   "nbconvert_exporter": "python",
   "pygments_lexer": "ipython3",
   "version": "3.9.7"
  }
 },
 "nbformat": 4,
 "nbformat_minor": 5
}
